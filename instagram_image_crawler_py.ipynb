{
  "nbformat": 4,
  "nbformat_minor": 0,
  "metadata": {
    "colab": {
      "name": "instagram_image_crawler.py",
      "provenance": [],
      "authorship_tag": "ABX9TyNK9AnNLZrct63/pRvj7/26"
    },
    "kernelspec": {
      "name": "python3",
      "display_name": "Python 3"
    }
  },
  "cells": [
    {
      "cell_type": "code",
      "metadata": {
        "id": "YvStMFgzQ-JR",
        "colab_type": "code",
        "colab": {}
      },
      "source": [
        "from urllib.request import urlopen\n",
        "from urllib.parse import quote_plus\n",
        "from bs4 import BeautifulSoup\n",
        "from selenium import webdriver\n",
        "import time\n",
        "\n",
        "baseUrl = 'https://www.instagram.com/explore/tags/'\n",
        "plusUrl = input('Enter tags to search for : ')\n",
        "url = baseUrl + quote_plus(plusUrl)\n",
        "\n",
        "driver = webdriver.Chrome()\n",
        "driver.get(url)\n",
        "\n",
        "time.sleep(3)\n",
        "\n",
        "html = driver.page_source\n",
        "soup = BeautifulSoup(html)\n",
        "\n",
        "insta = soup.select('.v1Nh3.kIKUG._bz0w')\n",
        "\n",
        "n = 1\n",
        "for i in insta:\n",
        "    print(\"https://www.instagram.com\"+ i.a['href'])\n",
        "    imgUrl = i.select_one('.KL4Bh').img['src']\n",
        "    with urlopen(imgUrl) as f:\n",
        "        with open('./image/' +plusUrl +str(n) + '.jpg', 'wb') as h:\n",
        "            img = f.read()\n",
        "            h.write(img)\n",
        "    n += 1\n",
        "    print(imgUrl)\n",
        "    print()\n",
        "driver.close()\n",
        "\n"
      ],
      "execution_count": null,
      "outputs": []
    }
  ]
}